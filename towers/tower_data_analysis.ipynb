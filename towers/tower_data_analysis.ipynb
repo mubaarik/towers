{
 "cells": [
  {
   "cell_type": "code",
   "execution_count": 1,
   "metadata": {
    "collapsed": true
   },
   "outputs": [],
   "source": [
    "#imports libraries\n",
    "import pandas as pd"
   ]
  },
  {
   "cell_type": "code",
   "execution_count": null,
   "metadata": {
    "collapsed": true
   },
   "outputs": [],
   "source": [
    "Below are some calls to functions to be tested."
   ]
  },
  {
   "cell_type": "code",
   "execution_count": null,
   "metadata": {
    "collapsed": true
   },
   "outputs": [],
   "source": [
    "'''\n",
    "The following class describes a polygon in a latitudal plane. It has a function to plot the \n",
    "plane and a function to sample points within the plane. The sampling method takes number of \n",
    "points to be taking from the sample and the number of sample points for parameters.\n",
    "'''"
   ]
  },
  {
   "cell_type": "code",
   "execution_count": 3,
   "metadata": {
    "collapsed": true
   },
   "outputs": [],
   "source": [
    "files = ['SagamoreBeach.csv','Mashpee.csv','sandwich.csv', \n",
    "         'lnSandwich.csv', 'bourne.csv','buzzardsBay.csv']"
   ]
  },
  {
   "cell_type": "code",
   "execution_count": null,
   "metadata": {
    "collapsed": false
   },
   "outputs": [],
   "source": [
    "#open tower files\n",
    "def csvFilesToDataFrame(files):\n",
    "    return pd.concat([pd.read_csv(_file) for _file in files])\n",
    "tower_data = csvFilesToDataFrame(files)\n",
    "tower_data"
   ]
  },
  {
   "cell_type": "code",
   "execution_count": null,
   "metadata": {
    "collapsed": false
   },
   "outputs": [],
   "source": [
    "#columns names\n",
    "col_names = tower_data.columns.get_values()\n",
    "#Get the columns starting with rep or owner\n",
    "\n",
    "regex_keys = ['own', 'rep']\n",
    "\n",
    "#select columns of the data frame starting with given prefixes        \n",
    "def select_columns(prefix_list, columns):\n",
    "    return [item for item in col_names \n",
    "            if any(item.startswith(prefex) for prefex in prefix_list)]"
   ]
  },
  {
   "cell_type": "code",
   "execution_count": null,
   "metadata": {
    "collapsed": false
   },
   "outputs": [],
   "source": [
    "#tests for select_columns\n",
    "owner_rep = select_columns(regex_keys, col_names)\n",
    "owner = select_columns(['owner'], col_names)\n",
    "rep = select_columns(['rep'], col_names)"
   ]
  },
  {
   "cell_type": "code",
   "execution_count": null,
   "metadata": {
    "collapsed": false
   },
   "outputs": [],
   "source": [
    "tower_data.drop_duplicates()"
   ]
  },
  {
   "cell_type": "code",
   "execution_count": null,
   "metadata": {
    "collapsed": false
   },
   "outputs": [],
   "source": [
    "#select tower owner names\n",
    "owner_names=tower_data[['owner_entity_name']].drop_duplicates()\n",
    "#owner_names"
   ]
  },
  {
   "cell_type": "code",
   "execution_count": null,
   "metadata": {
    "collapsed": true
   },
   "outputs": [],
   "source": [
    "#Validation fields \n",
    "exceptions = ['COLONIAL GAS COMPANY']\n",
    "probably_cell_towers = ['T-Mobile Northeast LLC','']\n",
    "wireless_or_towers = ['American Towers LLC']\n",
    "\n",
    "lte = ['Adams Networks','AT&T',('Big River', 'Broad'),\n",
    "        'BIT Broad',('Bluegrass','Cellular'),('Bug Tussel','Wireless'),'C Spire',\n",
    "        'ClearTalk','Colorado Valley','ETC',('Evolve', 'Broadband'),\n",
    "        ('Infrastructure','Networks'),('iWireless'),('Limitless','Mobile'),\n",
    "       'Mobile Nation',('Mosaic','Telecom'),('Nex-Tech','Wireless'),\n",
    "        'Nortex','PTCI','PTC',('Redzone','Wireless'),'Rise Broadband',\n",
    "        'Rock Wireless','Silver Star',('Space Data','Corporation'),\n",
    "        'Speed Connect','Sprint',('Syringa','Wireless'),'T-Mobile',\n",
    "        'U.S. Cellular','US Cellular','United Wireless','Verizon',\n",
    "       ('VTel','Wireless'),'United States Cellular']"
   ]
  },
  {
   "cell_type": "code",
   "execution_count": null,
   "metadata": {
    "collapsed": false
   },
   "outputs": [],
   "source": [
    "#rtf file processing utility functions\n",
    "\n",
    "#read from the file\n",
    "def read_rtf(rtf_file):\n",
    "    _file = open(rtf_file, 'r')\n",
    "    rtf_data = _file.read().strip()\n",
    "    _file.close()\n",
    "    return rtf_data\n",
    "import re\n",
    "\n",
    "#pick the links in the file\n",
    "def rtf_links(rtf_data):\n",
    "    return re.findall('\\s+(.*?)}}', rtf_data)\n",
    "#split and clean strings\n",
    "def split_clean_str(string, split, index):\n",
    "    return string.split(split)[index].strip()\n",
    "#clean all the links in the rtf file\n",
    "def link_text(rtf_links):\n",
    "    return [split_clean_str(item, '3', 1) for item in rtf_links if not 'http' in item]\n",
    "#Get the text from all the links in the rtf file\n",
    "def get_rtf_linkTexts(rtf_file):\n",
    "    twr_comps = read_rtf(rtf_file)\n",
    "    twr_comp_links = rtf_links(twr_comps)\n",
    "    return link_text(twr_comp_links)\n",
    "    \n",
    "link_texts = get_rtf_linkTexts('tower_companies.rtf')#link_text(twr_comp_links)"
   ]
  },
  {
   "cell_type": "code",
   "execution_count": null,
   "metadata": {
    "collapsed": false
   },
   "outputs": [],
   "source": [
    "\n",
    "tower_companies = pd.DataFrame(link_texts, columns=['tower companies'])\n",
    "tower_companies"
   ]
  },
  {
   "cell_type": "code",
   "execution_count": null,
   "metadata": {
    "collapsed": false
   },
   "outputs": [],
   "source": [
    "tower_companies"
   ]
  },
  {
   "cell_type": "code",
   "execution_count": null,
   "metadata": {
    "collapsed": false
   },
   "outputs": [],
   "source": [
    "#Input:\n",
    "    #name1: Name of a company\n",
    "    #name2: Name of a company\n",
    "    #lte_name: Name of a known LTE provider\n",
    "#output:\n",
    "    #Checks if name of the lte company is in name1 and name2\n",
    "    #calculates score based on the how much of the lte provider's name\n",
    "    #is in both name1 and name2\n",
    "def commonGrade(name1,name2, lte_name):\n",
    "    name1 = str(name1).lower()\n",
    "    name2 = str(name2).lower()\n",
    "    \n",
    "    whole = 30.0\n",
    "    first = 18.0\n",
    "    dist = 0\n",
    "    if any([isinstance(nam,float) for nam in [name1, name2, lte_name]]):\n",
    "            return dist\n",
    "    if isinstance(lte_name, str):\n",
    "        lte_name = lte_name.lower()\n",
    "        \n",
    "        \n",
    "        if lte_name in name1 and lte_name in name2:\n",
    "            return whole;\n",
    "        return dist\n",
    "    if isinstance(lte_name, tuple):\n",
    "        main = lte_name[0].lower()\n",
    "        extension = lte_name[1].lower()\n",
    "        if main in name1 and main in name2:\n",
    "            dist+=first\n",
    "            if extension in name1 and extension in name2:\n",
    "                dist+=whole-first\n",
    "        return dist\n",
    "    raise ValueError(\"Found something lte name that's neither string nor tuple!\")\n",
    "            \n",
    "def both_LTE(name1,name2):\n",
    "    #print [commonGrade(name1,name2, lte_name) for lte_name in lte]\n",
    "    return max([commonGrade(name1,name2, lte_name) for lte_name in lte])\n",
    "'''\n",
    "Calculates the distance between the names of two companies based on the edit distance and\n",
    "the number of similar works present\n",
    "'''\n",
    "import editdistance as editd\n",
    "def distance(name1, name2):\n",
    "    #print \"name 1: \"+name1\n",
    "    #print \"name 2: \"+name2\n",
    "    _nm1 = str(name1).lower().split(',')[0]#.split(' ')\n",
    "    _nm2 = str(name2).lower().split(',')[0]#.split(' ')\n",
    "    nm1 = _nm1.split(' ')\n",
    "    nm2 = _nm2.split(' ')\n",
    "   \n",
    "    bound = min(len(nm1),len(nm2))\n",
    "    dist = 20.0\n",
    "    both_lte = both_LTE(name1, name2)\n",
    "    for i in range(bound):\n",
    "        if nm1[i]==nm2[i]:\n",
    "            dist+=dist/((i+1)**2)\n",
    "        else:\n",
    "            dist-=dist/((i+1)**2)\n",
    "    return dist - editd.eval(_nm1, _nm2)+both_lte\n",
    "                   \n",
    "    \n"
   ]
  },
  {
   "cell_type": "code",
   "execution_count": null,
   "metadata": {
    "collapsed": false
   },
   "outputs": [],
   "source": [
    "#distance('Communication & Control, Inc.','ClearShot Communications')\n",
    "#lte_name = ('C Spire','Corporation')\n",
    "name1 = 'C Spire Corporation'\n",
    "name2 = 'C Spire'\n",
    "both_LTE(name1,name2)"
   ]
  },
  {
   "cell_type": "code",
   "execution_count": null,
   "metadata": {
    "collapsed": false
   },
   "outputs": [],
   "source": [
    "#distances array between a names and list of names\n",
    "def one_to_many(one, many):\n",
    "    return [(one,item, distance(one, item)) for item in many]\n",
    "'''\n",
    "input:\n",
    "    owners: Owner names of found towers\n",
    "    towerComp: Known tower companies \n",
    "output:\n",
    "    data frame of (owner, tower companies, names distance)\n",
    "'''\n",
    "def owner_to_company_name_dist(owners, towerComp):\n",
    "    distances = [one_to_many(name[0], towerComp) for name in owners]\n",
    "    comparision_frame = pd.concat([pd.DataFrame(item, columns = ('tower owner', 'tower company','name distance')) \n",
    "                                 for item in distances])\n",
    "    return comparision_frame\n",
    "comparision_frame = owner_to_company_name_dist(owner_names.get_values(), tower_companies)"
   ]
  },
  {
   "cell_type": "code",
   "execution_count": null,
   "metadata": {
    "collapsed": false
   },
   "outputs": [],
   "source": [
    "comparision_frame.to_csv(path_or_buf = 'tower_owner_tower_comp_dist.csv')"
   ]
  },
  {
   "cell_type": "code",
   "execution_count": null,
   "metadata": {
    "collapsed": false
   },
   "outputs": [],
   "source": [
    "owner_names.get_values()"
   ]
  },
  {
   "cell_type": "code",
   "execution_count": null,
   "metadata": {
    "collapsed": true
   },
   "outputs": [],
   "source": [
    "#input:\n",
    "    #html_file: html file\n",
    "#output: \n",
    "    #Tables: list of raw tables extracted from the file\n",
    "import re\n",
    "def wekipediaScraper(html_file):\n",
    "    open_file = open(html_file, 'r')\n",
    "    file_data = open_file.read()\n",
    "    open_file.close()\n",
    "    opening_table = '<table class=[.*?] border=[.*?] cellpadding=[.*?] style=[.*?]>'\n",
    "    tables= re.findall('(?s)(?<=<table)(.+?)(?=</table>)', file_data)\n",
    "    #print file_data\n",
    "    return tables"
   ]
  },
  {
   "cell_type": "code",
   "execution_count": null,
   "metadata": {
    "collapsed": false
   },
   "outputs": [],
   "source": [
    "#input:\n",
    "    #tables: list of raw html table contents\n",
    "#output: \n",
    "    #matrix of html table row raw contents\n",
    "def tableRow(tables):\n",
    "    return [re.findall('(?s)(?<=<tr)(.+?)(?=</tr>)', table) for table in tables]"
   ]
  },
  {
   "cell_type": "code",
   "execution_count": null,
   "metadata": {
    "collapsed": false
   },
   "outputs": [],
   "source": [
    "tables = wekipediaScraper('weki.html')\n",
    "#tables\n",
    "#tableRow(tables)"
   ]
  },
  {
   "cell_type": "code",
   "execution_count": null,
   "metadata": {
    "collapsed": false
   },
   "outputs": [],
   "source": [
    "#input: \n",
    "    #tr: raw html row content\n",
    "#output:\n",
    "    #list of clean text extracted each column of the row\n",
    "def separateCols(tr):\n",
    "    cols = re.findall('(?s)(?<=<td)(.+?)(?=/td>)|(?s)(?<=<th)(.+?)(?=/th>)', tr)\n",
    "    clean_cols = [re.findall('(?s)(?<=>)(.+?)(?=<)',max(col, key = len)) for col in cols]\n",
    "    cleaned_cols = [max(col,key=len).split('>')[-1] if col else 'NaN' for col in clean_cols]\n",
    "    \n",
    "    \n",
    "    return cleaned_cols\n",
    "import pandas as pd\n",
    "#input:\n",
    "    #table: raw html table content\n",
    "#output:\n",
    "    #Data frame of the html table cell text\n",
    "def table_to_dataframe(table):\n",
    "    matrix = [separateCols(tr) for tr in table]\n",
    "    return pd.DataFrame(matrix[1:], columns=matrix[0])\n",
    "#input:\n",
    "    #html_file: html file\n",
    "    #index: index location of a table in the file\n",
    "#output:\n",
    "    #dataframe of the cell content of the table with given index\n",
    "def html_table_to_dataframe(html_file, index):\n",
    "    tables = wekipediaScraper(html_file)\n",
    "    row_separated = tableRow(tables)\n",
    "    return table_to_dataframe(table[index])"
   ]
  },
  {
   "cell_type": "code",
   "execution_count": null,
   "metadata": {
    "collapsed": false
   },
   "outputs": [],
   "source": [
    "separateCols('<tr><td><a href=\"/wiki/Big_River_Telephone\" title=\"Big River Telephone\">Big River Broadband</a></td><td></td><td><a href=\"/wiki/3GPP_Long_Term_Evolution\" class=\"mw-redirect\" title=\"3GPP Long Term Evolution\">LTE</a></td><td>Unknown</td><td>MO</td><td><a href=\"/wiki/Big_River_Telephone\" title=\"Big River Telephone\">Big River Telephone</a></td></tr>')"
   ]
  },
  {
   "cell_type": "code",
   "execution_count": null,
   "metadata": {
    "collapsed": false
   },
   "outputs": [],
   "source": [
    "head = '<tr style=\"background:skyblue;\"><th>Operator</th><th>Voice&#160;technology</th><th>Data&#160;technology</th><th data-sort-type=\"number\">Subscribers<br /><small>(in millions)</small></th><th>Coverage<br /><small>(excluding&#160;roaming)</small></th><th>Ownership</th></tr>'\n",
    "separateCols(head)"
   ]
  },
  {
   "cell_type": "code",
   "execution_count": null,
   "metadata": {
    "collapsed": false
   },
   "outputs": [],
   "source": [
    "#tables = wekipediaScraper('weki.html')\n",
    "#tables\n",
    "table = tableRow(tables)\n",
    "nation_wide = table_to_dataframe(table[1])\n",
    "nation_wide"
   ]
  },
  {
   "cell_type": "code",
   "execution_count": null,
   "metadata": {
    "collapsed": false
   },
   "outputs": [],
   "source": [
    "merges = table_to_dataframe(table[-3])\n",
    "merges"
   ]
  },
  {
   "cell_type": "code",
   "execution_count": null,
   "metadata": {
    "collapsed": false
   },
   "outputs": [],
   "source": [
    "operators = nation_wide['Operator'].append(merges['Operator'])"
   ]
  },
  {
   "cell_type": "code",
   "execution_count": null,
   "metadata": {
    "collapsed": false
   },
   "outputs": [],
   "source": [
    "tel_companies = operators.append(nation_wide['Ownership'])"
   ]
  },
  {
   "cell_type": "code",
   "execution_count": null,
   "metadata": {
    "collapsed": false
   },
   "outputs": [],
   "source": [
    "all_companies = tel_companies.append(tower_companies['tower companies']).drop_duplicates()\n",
    "#original_shape = (295,)"
   ]
  },
  {
   "cell_type": "code",
   "execution_count": null,
   "metadata": {
    "collapsed": false,
    "scrolled": false
   },
   "outputs": [],
   "source": [
    "comparison_df = owner_to_company_name_dist(owner_names.get_values(), all_companies)\n",
    "comparison_df.sort(['name distance'])[21200:]"
   ]
  }
 ],
 "metadata": {
  "kernelspec": {
   "display_name": "Python 2",
   "language": "python",
   "name": "python2"
  },
  "language_info": {
   "codemirror_mode": {
    "name": "ipython",
    "version": 2
   },
   "file_extension": ".py",
   "mimetype": "text/x-python",
   "name": "python",
   "nbconvert_exporter": "python",
   "pygments_lexer": "ipython2",
   "version": "2.7.13"
  }
 },
 "nbformat": 4,
 "nbformat_minor": 2
}
